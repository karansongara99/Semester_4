{
 "cells": [
  {
   "attachments": {},
   "cell_type": "markdown",
   "metadata": {},
   "source": [
    "<a href='https://www.darshan.ac.in/'> <img src='https://www.darshan.ac.in/Content/media/DU_Logo.svg' width=\"250\" height=\"300\"/></a>\n",
    "<pre>\n",
    "<center><b><h1>Python Programming - 2301CS404</b></center>\n",
    "    <center><b><h1>Karan Sonagara - 24010101694</b></center>\n",
    "<center><b><h1>Lab - 6</b></center>    \n",
    "<pre>"
   ]
  },
  {
   "cell_type": "markdown",
   "metadata": {},
   "source": [
    "# Tuple"
   ]
  },
  {
   "cell_type": "markdown",
   "metadata": {},
   "source": [
    "### 01) WAP to find sum of tuple elements."
   ]
  },
  {
   "cell_type": "code",
   "execution_count": 3,
   "metadata": {},
   "outputs": [
    {
     "name": "stdout",
     "output_type": "stream",
     "text": [
      "Sum is:  15\n"
     ]
    }
   ],
   "source": [
    "t1 = (1,2,3,4,5)\n",
    "sum = 0\n",
    "for i in t1:\n",
    "    sum+=i\n",
    "print(\"Sum is: \",sum)"
   ]
  },
  {
   "cell_type": "markdown",
   "metadata": {},
   "source": [
    "### 02) WAP to find Maximum and Minimum K elements in a given tuple."
   ]
  },
  {
   "cell_type": "code",
   "execution_count": 14,
   "metadata": {},
   "outputs": [
    {
     "name": "stdout",
     "output_type": "stream",
     "text": [
      "56\n",
      "1\n"
     ]
    }
   ],
   "source": [
    "#Maximum\n",
    "t1 = (1,2,4,56,5,6)\n",
    "maxi = max(t1)\n",
    "print(maxi)\n",
    "\n",
    "#Minimum\n",
    "\n",
    "t2 = (1,5,89,99,10,220)\n",
    "mxum = min(t2)\n",
    "print(mxum)"
   ]
  },
  {
   "cell_type": "markdown",
   "metadata": {},
   "source": [
    "### 03) WAP to find tuples which have all elements divisible by K from a list of tuples."
   ]
  },
  {
   "cell_type": "code",
   "execution_count": 30,
   "metadata": {},
   "outputs": [
    {
     "name": "stdout",
     "output_type": "stream",
     "text": [
      "[(45, 90, 135)]\n"
     ]
    }
   ],
   "source": [
    "t1 = [(45, 90, 135), (71, 92, 26), (2, 67, 98)]\n",
    "k = 45\n",
    "res = [sub for sub in t1 if all(ele % k == 0 for ele in sub)]\n",
    "print(res)"
   ]
  },
  {
   "cell_type": "markdown",
   "metadata": {},
   "source": [
    "### 04) WAP to create a list of tuples from given list having number and its cube in each tuple."
   ]
  },
  {
   "cell_type": "code",
   "execution_count": 35,
   "metadata": {},
   "outputs": [
    {
     "name": "stdout",
     "output_type": "stream",
     "text": [
      "[(1, 1), (5, 125), (3, 27), (2, 8), (7, 343)]\n",
      "[(1, 1), (5, 125), (4, 64), (2, 8), (3, 27)]\n"
     ]
    }
   ],
   "source": [
    "t2 = [1,5,3,2,7]\n",
    "l1 = []\n",
    "for i in t2:\n",
    "    l1.append((i,i**3))\n",
    "print(l1)\n",
    "\n",
    "####\n",
    "n1 = [1,5,4,2,3]\n",
    "result = [(num, num**3) for num in n1]\n",
    "print(result)\n"
   ]
  },
  {
   "cell_type": "markdown",
   "metadata": {},
   "source": [
    "### 05) WAP to find tuples with all positive elements from the given list of tuples."
   ]
  },
  {
   "cell_type": "code",
   "execution_count": 117,
   "metadata": {},
   "outputs": [
    {
     "name": "stdout",
     "output_type": "stream",
     "text": [
      "[-4, 8]\n"
     ]
    }
   ],
   "source": [
    "t1 = [(1,-2,3,-4),(4,2,6,8)]\n",
    "t2 = []\n",
    "for i in t1:\n",
    "    for j in i:\n",
    "        isPositive = True\n",
    "        if j>0:\n",
    "            isPositive = True\n",
    "        else:\n",
    "            isPositive = False\n",
    "        isPositive = True\n",
    "    t2.append(j)\n",
    "print(t2)"
   ]
  },
  {
   "cell_type": "markdown",
   "metadata": {},
   "source": [
    "### 06) WAP to add tuple to list and vice – versa."
   ]
  },
  {
   "cell_type": "code",
   "execution_count": 52,
   "metadata": {},
   "outputs": [
    {
     "name": "stdout",
     "output_type": "stream",
     "text": [
      "List after adding tuple: [1, 2, 3, (4, 5)]\n",
      "Extracted tuple: (4, 5)\n",
      "List after extracting tuple: [1, 2, 3]\n"
     ]
    }
   ],
   "source": [
    "l1 = [1, 2, 3]\n",
    "t1 = (4, 5)\n",
    "\n",
    "l1.append(t1)\n",
    "print(\"List:\", l1) \n",
    "\n",
    "dele = l1.pop() \n",
    "print(\"Tuple:\", dele)\n",
    "print(\"List after tuple:\", l1)"
   ]
  },
  {
   "cell_type": "markdown",
   "metadata": {},
   "source": [
    "### 07) WAP to remove tuples of length K."
   ]
  },
  {
   "cell_type": "code",
   "execution_count": 85,
   "metadata": {},
   "outputs": [
    {
     "name": "stdout",
     "output_type": "stream",
     "text": [
      "(1, 2, 3)\n",
      "(4, 4)\n",
      "(5, 6)\n",
      "(7, 8, 9)\n",
      "10\n"
     ]
    }
   ],
   "source": [
    "t3 = [(1, 2, 3), (4,4), (5, 6), (7, 8, 9), (10)]\n",
    "K = 2\n",
    "for i in t3:\n",
    "    if len(t3) != k:\n",
    "        print(i)"
   ]
  },
  {
   "cell_type": "markdown",
   "metadata": {},
   "source": [
    "### 08) WAP to remove duplicates from tuple."
   ]
  },
  {
   "cell_type": "code",
   "execution_count": 53,
   "metadata": {},
   "outputs": [
    {
     "name": "stdout",
     "output_type": "stream",
     "text": [
      "(9, 4, 5)\n"
     ]
    }
   ],
   "source": [
    "t4 = (4,5,9,9,5,5)\n",
    "urw = tuple(set(t4))\n",
    "print(urw)"
   ]
  },
  {
   "cell_type": "markdown",
   "metadata": {},
   "source": [
    "### 09) WAP to multiply adjacent elements of a tuple and print that resultant tuple."
   ]
  },
  {
   "cell_type": "code",
   "execution_count": 97,
   "metadata": {},
   "outputs": [
    {
     "name": "stdout",
     "output_type": "stream",
     "text": [
      "1\n",
      "100\n"
     ]
    }
   ],
   "source": [
    "t3 = (3,2,2,3)\n",
    "for i in (1,10):\n",
    "    print(i**2)"
   ]
  },
  {
   "cell_type": "markdown",
   "metadata": {},
   "source": [
    "### 10) WAP to test if the given tuple is distinct or not."
   ]
  },
  {
   "cell_type": "code",
   "execution_count": 93,
   "metadata": {},
   "outputs": [
    {
     "name": "stdout",
     "output_type": "stream",
     "text": [
      "10\n"
     ]
    }
   ],
   "source": [
    "tup = (1,4,5,5,6,1)\n",
    "n = 0\n",
    "for i in tup:\n",
    "    for j in tup:\n",
    "        if i == j:\n",
    "            n = n + 1\n",
    "print(n)\n",
    "            "
   ]
  },
  {
   "cell_type": "code",
   "execution_count": null,
   "metadata": {},
   "outputs": [],
   "source": []
  }
 ],
 "metadata": {
  "kernelspec": {
   "display_name": "Python 3 (ipykernel)",
   "language": "python",
   "name": "python3"
  },
  "language_info": {
   "codemirror_mode": {
    "name": "ipython",
    "version": 3
   },
   "file_extension": ".py",
   "mimetype": "text/x-python",
   "name": "python",
   "nbconvert_exporter": "python",
   "pygments_lexer": "ipython3",
   "version": "3.12.7"
  }
 },
 "nbformat": 4,
 "nbformat_minor": 4
}
