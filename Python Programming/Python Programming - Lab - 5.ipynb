{
 "cells": [
  {
   "cell_type": "markdown",
   "metadata": {},
   "source": [
    "\n",
    "<a href='https://www.darshan.ac.in/'> <img src='https://www.darshan.ac.in/Content/media/DU_Logo.svg' width=\"250\" height=\"300\"/></a>\n",
    "<pre>\n",
    "<center><b><h1>Python Programming - 2301CS404</b></center>\n",
    "    <center><b><h1>Karan Sonagara - 24010101694</b></center>\n",
    "<center><b><h1>Lab - 5</b></center>    \n",
    "<pre>"
   ]
  },
  {
   "cell_type": "markdown",
   "metadata": {},
   "source": [
    "# List"
   ]
  },
  {
   "cell_type": "markdown",
   "metadata": {},
   "source": [
    "### 01) WAP to find sum of all the elements in a List."
   ]
  },
  {
   "cell_type": "code",
   "execution_count": 13,
   "metadata": {},
   "outputs": [
    {
     "name": "stdout",
     "output_type": "stream",
     "text": [
      "15\n"
     ]
    }
   ],
   "source": [
    "l1 = [1,2,3,4,5]\n",
    "sum=0\n",
    "for i in l1:\n",
    "    sum+=i\n",
    "print(sum)"
   ]
  },
  {
   "cell_type": "markdown",
   "metadata": {},
   "source": [
    "### 02) WAP to find largest element in a List."
   ]
  },
  {
   "cell_type": "code",
   "execution_count": 9,
   "metadata": {},
   "outputs": [
    {
     "name": "stdout",
     "output_type": "stream",
     "text": [
      "20\n"
     ]
    }
   ],
   "source": [
    "l1 = [1,2,3,20,5]\n",
    "large = max(l1)\n",
    "print(large)"
   ]
  },
  {
   "cell_type": "markdown",
   "metadata": {},
   "source": [
    "### 03) WAP to find the length of a List."
   ]
  },
  {
   "cell_type": "code",
   "execution_count": 15,
   "metadata": {},
   "outputs": [
    {
     "name": "stdout",
     "output_type": "stream",
     "text": [
      "5\n"
     ]
    }
   ],
   "source": [
    "l1 = [15,20,30,40,75]\n",
    "total = len(l1)\n",
    "print(total)"
   ]
  },
  {
   "cell_type": "markdown",
   "metadata": {},
   "source": [
    "### 04) WAP to interchange first and last elements in a list."
   ]
  },
  {
   "cell_type": "code",
   "execution_count": 60,
   "metadata": {},
   "outputs": [
    {
     "name": "stdout",
     "output_type": "stream",
     "text": [
      "[11, 45, 88, 45, 35, 22]\n",
      "[22, 45, 88, 45, 35, 11]\n"
     ]
    }
   ],
   "source": [
    "li = [11,45,88,45,35,22]\n",
    "print(li)\n",
    "li[0],li[-1] = li[-1],li[0]\n",
    "print(li)"
   ]
  },
  {
   "cell_type": "markdown",
   "metadata": {},
   "source": [
    "### 05) WAP to split the List into two parts and append the first part to the end."
   ]
  },
  {
   "cell_type": "code",
   "execution_count": 71,
   "metadata": {},
   "outputs": [
    {
     "name": "stdout",
     "output_type": "stream",
     "text": [
      "[6, 7, 8, 9, 10, 1, 2, 3, 4, 5]\n"
     ]
    }
   ],
   "source": [
    "li = [1,2,3,4,5,6,7,8,9,10]\n",
    "l2 = len(li) // 2\n",
    "ans = li[l2::] + li[:l2:]\n",
    "print(ans)"
   ]
  },
  {
   "cell_type": "markdown",
   "metadata": {},
   "source": [
    "### 06) WAP to interchange the elements on two positions entered by a user."
   ]
  },
  {
   "cell_type": "code",
   "execution_count": 75,
   "metadata": {},
   "outputs": [
    {
     "name": "stdout",
     "output_type": "stream",
     "text": [
      "[1, 2, 3, 5, 6, 4, 8, 6]\n"
     ]
    },
    {
     "name": "stdin",
     "output_type": "stream",
     "text": [
      "1 1\n",
      "2 5\n"
     ]
    },
    {
     "name": "stdout",
     "output_type": "stream",
     "text": [
      "[1, 4, 3, 5, 6, 2, 8, 6]\n"
     ]
    }
   ],
   "source": [
    "l1 = [1,2,3,5,6,4,8,6]\n",
    "print(l1)\n",
    "pos1 = int(input(\"1\"))\n",
    "pos2 = int(input(\"2\"))\n",
    "l1[pos1],l1[pos2] = l1[pos2],l1[pos1]\n",
    "print(l1)"
   ]
  },
  {
   "cell_type": "markdown",
   "metadata": {},
   "source": [
    "### 07) WAP to reverse the list entered by user."
   ]
  },
  {
   "cell_type": "code",
   "execution_count": 11,
   "metadata": {},
   "outputs": [
    {
     "name": "stdout",
     "output_type": "stream",
     "text": [
      "[5, 4, 3, 2, 1]\n"
     ]
    }
   ],
   "source": [
    "l1 = [1,2,3,4,5]\n",
    "rev = l1[::-1]\n",
    "print(rev)"
   ]
  },
  {
   "cell_type": "markdown",
   "metadata": {},
   "source": [
    "### 08) WAP to print even numbers in a list."
   ]
  },
  {
   "cell_type": "code",
   "execution_count": 13,
   "metadata": {},
   "outputs": [
    {
     "name": "stdout",
     "output_type": "stream",
     "text": [
      "2\n",
      "4\n"
     ]
    }
   ],
   "source": [
    "l1 = [1,2,59,4,67,9]\n",
    "for i in l1:\n",
    "    if i%2==0:\n",
    "        print(i)"
   ]
  },
  {
   "cell_type": "markdown",
   "metadata": {},
   "source": [
    "### 09) WAP to count unique items in a list."
   ]
  },
  {
   "cell_type": "code",
   "execution_count": 1,
   "metadata": {},
   "outputs": [
    {
     "name": "stdout",
     "output_type": "stream",
     "text": [
      "9\n"
     ]
    }
   ],
   "source": [
    "l1 = [1,1,2,2,3,4,5,5,6]\n",
    "count=0\n",
    "l2 = []\n",
    "\n",
    "for i in l1:\n",
    "    if i not in l2:\n",
    "        count+=1\n",
    "        l2.append(i)\n",
    "print(count)"
   ]
  },
  {
   "cell_type": "markdown",
   "metadata": {},
   "source": [
    "### 10) WAP to copy a list."
   ]
  },
  {
   "cell_type": "code",
   "execution_count": 15,
   "metadata": {},
   "outputs": [
    {
     "name": "stdout",
     "output_type": "stream",
     "text": [
      "['Car', 'Darshan', 'College']\n"
     ]
    }
   ],
   "source": [
    "l1 = [\"Car\",\"Darshan\",\"College\"]\n",
    "l2 = l1.copy()\n",
    "print(l2)"
   ]
  },
  {
   "cell_type": "markdown",
   "metadata": {},
   "source": [
    "### 11) WAP to print all odd numbers in a given range."
   ]
  },
  {
   "cell_type": "code",
   "execution_count": 22,
   "metadata": {},
   "outputs": [
    {
     "name": "stdin",
     "output_type": "stream",
     "text": [
      "Enter N: 20\n"
     ]
    },
    {
     "name": "stdout",
     "output_type": "stream",
     "text": [
      "1\n",
      "3\n",
      "5\n",
      "7\n",
      "9\n",
      "11\n",
      "13\n",
      "15\n",
      "17\n",
      "19\n"
     ]
    }
   ],
   "source": [
    "n = int(input(\"Enter N:\"))\n",
    "for i in range(1,n+1):\n",
    "    if i%2!=0:\n",
    "        print(i)"
   ]
  },
  {
   "cell_type": "markdown",
   "metadata": {},
   "source": [
    "### 12) WAP to count occurrences of an element in a list."
   ]
  },
  {
   "cell_type": "code",
   "execution_count": 53,
   "metadata": {},
   "outputs": [
    {
     "name": "stdin",
     "output_type": "stream",
     "text": [
      "Enter No 8\n"
     ]
    },
    {
     "name": "stdout",
     "output_type": "stream",
     "text": [
      "2\n"
     ]
    }
   ],
   "source": [
    "li = [1,2,3,45,1,2,6,7,8,8,9,1]\n",
    "a = int(input(\"Enter No\"))\n",
    "b = li.count(a)\n",
    "print(b)"
   ]
  },
  {
   "cell_type": "markdown",
   "metadata": {},
   "source": [
    "### 13) WAP to find second largest number in a list."
   ]
  },
  {
   "cell_type": "code",
   "execution_count": 101,
   "metadata": {},
   "outputs": [
    {
     "name": "stdout",
     "output_type": "stream",
     "text": [
      "60\n"
     ]
    }
   ],
   "source": [
    "l1 = [1,2,100,60,50,8]\n",
    "l1.sort()\n",
    "print(l1[-2])"
   ]
  },
  {
   "cell_type": "markdown",
   "metadata": {},
   "source": [
    "### 14) WAP to extract elements with frequency greater than K."
   ]
  },
  {
   "cell_type": "code",
   "execution_count": 119,
   "metadata": {},
   "outputs": [
    {
     "name": "stdout",
     "output_type": "stream",
     "text": [
      "[2, 2, 2, 2, 2, 2, 2, 2]\n"
     ]
    }
   ],
   "source": [
    "l1 = [1,1,1,2,2,4,3,4,5,4,1,1]\n",
    "k = 2\n",
    "l2 = []\n",
    "for i in l1:\n",
    "    freq = l1.count(i)\n",
    "    if freq>k and i not in l2:\n",
    "        l2.append(k)\n",
    "print(l2)\n"
   ]
  },
  {
   "cell_type": "markdown",
   "metadata": {},
   "source": [
    "### 15) WAP to create a list of squared numbers from 0 to 9 with and without using List Comprehension."
   ]
  },
  {
   "cell_type": "code",
   "execution_count": 49,
   "metadata": {},
   "outputs": [
    {
     "name": "stdout",
     "output_type": "stream",
     "text": [
      "[1, 4, 9, 16, 25, 36, 49, 64, 81]\n",
      "1\n",
      "4\n",
      "9\n",
      "16\n",
      "25\n",
      "36\n",
      "49\n",
      "64\n",
      "81\n"
     ]
    }
   ],
   "source": [
    "data = [1,2,3,4,5,6,7,8,9]\n",
    "result = [i*i for i in data]\n",
    "print(result)\n",
    "\n",
    "#Without\n",
    "\n",
    "num = [1,2,3,4,5,6,7,8,9]\n",
    "for i in num:\n",
    "    print(i*i)"
   ]
  },
  {
   "cell_type": "markdown",
   "metadata": {},
   "source": [
    "### 16) WAP to create a new list (fruit whose name starts with 'b') from the list of fruits given by user."
   ]
  },
  {
   "cell_type": "code",
   "execution_count": 57,
   "metadata": {},
   "outputs": [
    {
     "name": "stdout",
     "output_type": "stream",
     "text": [
      "blackberry\n",
      "banana\n"
     ]
    }
   ],
   "source": [
    "li = [\"blackberry\", \"apple\", \"banana\"]\n",
    "for i in li:\n",
    "    if i[0]=='b':\n",
    "        print(i)\n"
   ]
  },
  {
   "cell_type": "markdown",
   "metadata": {},
   "source": [
    "### 17) WAP to create a list of common elements from given two lists."
   ]
  },
  {
   "cell_type": "code",
   "execution_count": 27,
   "metadata": {},
   "outputs": [
    {
     "name": "stdout",
     "output_type": "stream",
     "text": [
      "[2, 4, 5]\n"
     ]
    }
   ],
   "source": [
    "l1 = [1,2,3,4,5]\n",
    "l2 = [2,8,4,5,7]\n",
    "co = []\n",
    "for i in l1:\n",
    "    if i in l2:\n",
    "        co.append(i)\n",
    "print(co)    "
   ]
  }
 ],
 "metadata": {
  "kernelspec": {
   "display_name": "Python 3 (ipykernel)",
   "language": "python",
   "name": "python3"
  },
  "language_info": {
   "codemirror_mode": {
    "name": "ipython",
    "version": 3
   },
   "file_extension": ".py",
   "mimetype": "text/x-python",
   "name": "python",
   "nbconvert_exporter": "python",
   "pygments_lexer": "ipython3",
   "version": "3.12.7"
  }
 },
 "nbformat": 4,
 "nbformat_minor": 4
}
