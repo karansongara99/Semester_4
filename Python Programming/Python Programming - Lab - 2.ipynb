{
 "cells": [
  {
   "cell_type": "markdown",
   "metadata": {},
   "source": [
    "\n",
    "<a href='https://www.darshan.ac.in/'> <img src='https://www.darshan.ac.in/Content/media/DU_Logo.svg' width=\"250\" height=\"300\"/></a>\n",
    "<pre>\n",
    "<center><b><h1>Python Programming - 2301CS404</b></center>\n",
    "    <center><b><h1>Karan Sonagara - 24010101694</b></center>\n",
    "<center><b><h1>Lab - 2</b></center>    \n",
    "<pre>"
   ]
  },
  {
   "cell_type": "markdown",
   "metadata": {},
   "source": [
    "# if..else.."
   ]
  },
  {
   "cell_type": "markdown",
   "metadata": {},
   "source": [
    "### 01) WAP to check whether the given number is positive or negative."
   ]
  },
  {
   "cell_type": "code",
   "execution_count": 1,
   "metadata": {},
   "outputs": [
    {
     "name": "stdin",
     "output_type": "stream",
     "text": [
      "Enter Number: -50\n"
     ]
    },
    {
     "name": "stdout",
     "output_type": "stream",
     "text": [
      "Negetive No...\n"
     ]
    }
   ],
   "source": [
    "a = int(input(\"Enter Number:\"))\n",
    "if a>0:\n",
    "    print(\"Positive No...\")\n",
    "else:\n",
    "    print(\"Negetive No...\")"
   ]
  },
  {
   "cell_type": "markdown",
   "metadata": {},
   "source": [
    "### 02) WAP to check whether the given number is odd or even."
   ]
  },
  {
   "cell_type": "code",
   "execution_count": 3,
   "metadata": {},
   "outputs": [
    {
     "name": "stdin",
     "output_type": "stream",
     "text": [
      "Enter Number: 20\n"
     ]
    },
    {
     "name": "stdout",
     "output_type": "stream",
     "text": [
      "Even....\n"
     ]
    }
   ],
   "source": [
    "n = int(input(\"Enter Number:\"))\n",
    "if n%2==0:\n",
    "    print(\"Even....\")\n",
    "else:\n",
    "    print(\"Odd.....\")"
   ]
  },
  {
   "cell_type": "markdown",
   "metadata": {},
   "source": [
    "### 03) WAP to find out largest number from given two numbers using simple if and ternary operator."
   ]
  },
  {
   "cell_type": "code",
   "execution_count": 7,
   "metadata": {},
   "outputs": [
    {
     "name": "stdin",
     "output_type": "stream",
     "text": [
      "Enter One 5\n",
      "Enter Two 2\n"
     ]
    },
    {
     "name": "stdout",
     "output_type": "stream",
     "text": [
      "b is minimum\n"
     ]
    }
   ],
   "source": [
    "a = int(input(\"Enter One\"))\n",
    "b = int(input(\"Enter Two\"))\n",
    "print((\"b is minimum\", \"a is minimum\") [a < b])"
   ]
  },
  {
   "cell_type": "markdown",
   "metadata": {},
   "source": [
    "### 04) WAP to find out largest number from given three numbers."
   ]
  },
  {
   "cell_type": "code",
   "execution_count": 19,
   "metadata": {},
   "outputs": [
    {
     "name": "stdin",
     "output_type": "stream",
     "text": [
      "Enter One 2\n",
      "Enter Two 5\n",
      "Enter Three 9\n"
     ]
    },
    {
     "name": "stdout",
     "output_type": "stream",
     "text": [
      "C is Max: 9\n"
     ]
    }
   ],
   "source": [
    "a = int(input(\"Enter One\"))\n",
    "b = int(input(\"Enter Two\"))\n",
    "c = int(input(\"Enter Three\"))\n",
    "if a>b and a>c:\n",
    "    print(\"A is Max:\",a)\n",
    "elif b>a and b>c:\n",
    "    print(\"B is Max:\",b)\n",
    "else:\n",
    "    print(\"C is Max:\",c)"
   ]
  },
  {
   "cell_type": "markdown",
   "metadata": {},
   "source": [
    "### 05) WAP to check whether the given year is leap year or not.\n",
    "[If a year can be divisible by 4 but not divisible by 100 then it is leap year but if it is divisible by 400 then it is leap year]"
   ]
  },
  {
   "cell_type": "code",
   "execution_count": 23,
   "metadata": {},
   "outputs": [
    {
     "name": "stdin",
     "output_type": "stream",
     "text": [
      "Enter Year 2000\n"
     ]
    },
    {
     "name": "stdout",
     "output_type": "stream",
     "text": [
      "Leap Year\n"
     ]
    }
   ],
   "source": [
    "year = int(input(\"Enter Year\"))\n",
    "if year%4!=0:\n",
    "    print(\"Not Leap Year\")\n",
    "elif year%100==0 and year%400==0:\n",
    "    print(\"Leap Year\")\n",
    "else:\n",
    "    print(\"Leap Year\")\n"
   ]
  },
  {
   "cell_type": "markdown",
   "metadata": {},
   "source": [
    "### 06) WAP in python to display the name of the day according to the number given by the user."
   ]
  },
  {
   "cell_type": "markdown",
   "metadata": {},
   "source": [
    "### 07) WAP to implement simple calculator which performs (add,sub,mul,div) of two no. based on user input."
   ]
  },
  {
   "cell_type": "code",
   "execution_count": 29,
   "metadata": {},
   "outputs": [
    {
     "name": "stdout",
     "output_type": "stream",
     "text": [
      "Please select operation -\n",
      "1. Add\n",
      "2. Subtract\n",
      "3. Multiply\n",
      "4. Divide\n",
      "\n"
     ]
    },
    {
     "name": "stdin",
     "output_type": "stream",
     "text": [
      "Select operations form 1, 2, 3, 4 : 2\n",
      "Enter first number:  20\n",
      "Enter second number:  50\n"
     ]
    },
    {
     "name": "stdout",
     "output_type": "stream",
     "text": [
      "-30\n"
     ]
    }
   ],
   "source": [
    "print(\"Please select operation -\\n\" \\\n",
    "        \"1. Add\\n\" \\\n",
    "        \"2. Subtract\\n\" \\\n",
    "        \"3. Multiply\\n\" \\\n",
    "        \"4. Divide\\n\")\n",
    "\n",
    "select = int(input(\"Select operations form 1, 2, 3, 4 :\"))\n",
    "\n",
    "number_1 = int(input(\"Enter first number: \"))\n",
    "number_2 = int(input(\"Enter second number: \"))\n",
    "\n",
    "if select == 1:\n",
    "    print(number_1 + number_2)\n",
    "\n",
    "elif select == 2:\n",
    "    print(number_1 - number_2)\n",
    "\n",
    "elif select == 3:\n",
    "    print(number_1 * number_2)\n",
    "\n",
    "elif select == 4:\n",
    "    print(number_1 / number_2)\n",
    "else:\n",
    "    print(\"Invalid input\")"
   ]
  },
  {
   "cell_type": "markdown",
   "metadata": {},
   "source": [
    "### 08) WAP to read marks of five subjects. Calculate percentage and print class accordingly. \n",
    "Fail below 35 </br>\n",
    "Pass Class between 35 to 45 </br>\n",
    "Second Class</br>\n",
    "between 45 to 60</br>\n",
    "First Class between 60 to 70</br> \n",
    "Distinction if more than 70"
   ]
  },
  {
   "cell_type": "code",
   "execution_count": 19,
   "metadata": {},
   "outputs": [
    {
     "name": "stdin",
     "output_type": "stream",
     "text": [
      "Enter Marks1 50\n",
      "Enter Marks2 40\n",
      "Enter Marks3 65\n",
      "Enter Marks4 53\n",
      "Enter Marks5 59\n"
     ]
    },
    {
     "name": "stdout",
     "output_type": "stream",
     "text": [
      "Percentage is 53.4 %\n",
      "Second Class Between 45 to 60\n"
     ]
    }
   ],
   "source": [
    " maths = int(input(\"Enter Marks1\"))\n",
    " sql = int(input(\"Enter Marks2\"))\n",
    " java = int(input(\"Enter Marks3\"))\n",
    " ds = int(input(\"Enter Marks4\"))\n",
    " python = int(input(\"Enter Marks5\"))\n",
    "per = (maths + sql + java + ds + python) / 5.0;\n",
    "print(\"Percentage is\",per,\"%\")\n",
    "if per < 35:\n",
    "    print(\"Fail Below 35\")\n",
    "elif per <= 35 or per<=45:\n",
    "    print(\"Pass Class Between 35 to 45\")\n",
    "elif per <= 45 or per<=60:\n",
    "    print(\"Second Class Between 45 to 60\")\n",
    "elif per <= 60 or per<=70:\n",
    "    print(\"First Class Between 60 to 70\")\n",
    "elif per <=70:\n",
    "    print(\"Distincation\")\n",
    "    "
   ]
  },
  {
   "cell_type": "markdown",
   "metadata": {},
   "source": [
    "### 09) Three sides of a triangle are entered through the keyboard, WAP to check whether the triangle is isosceles, equilateral, scalene or right-angled triangle."
   ]
  },
  {
   "cell_type": "code",
   "execution_count": 1,
   "metadata": {},
   "outputs": [
    {
     "name": "stdin",
     "output_type": "stream",
     "text": [
      "Enter N1: 50\n",
      "Enter N2: 50\n",
      "Enter N3: 50\n"
     ]
    },
    {
     "name": "stdout",
     "output_type": "stream",
     "text": [
      "Equilateral Triangle:\n"
     ]
    }
   ],
   "source": [
    "a = float(input(\"Enter N1:\"))\n",
    "b = float(input(\"Enter N2:\"))\n",
    "c = float(input(\"Enter N3:\"))\n",
    "if a + b > c and a + c > b and b + c > a:    \n",
    "    if a == b == c:\n",
    "        print(\"Equilateral Triangle:\")\n",
    "    elif a == b or b == c or a == c:\n",
    "        print(\"Isolaces Triangle:\")\n",
    "    else:\n",
    "        print(\"Scalence Triangle\")\n",
    "else:\n",
    "    print(\"Invaild Triangle\")"
   ]
  },
  {
   "cell_type": "markdown",
   "metadata": {},
   "source": [
    "### 10) WAP to find the second largest number among three user input numbers."
   ]
  },
  {
   "cell_type": "code",
   "execution_count": 23,
   "metadata": {},
   "outputs": [
    {
     "name": "stdin",
     "output_type": "stream",
     "text": [
      "Enter 1 10\n",
      "Enter 1 20\n",
      "Enter 1 30\n"
     ]
    },
    {
     "name": "stdout",
     "output_type": "stream",
     "text": [
      "Second Largest: 20\n"
     ]
    }
   ],
   "source": [
    "n1 = int(input(\"Enter 1\"))\n",
    "n2 = int(input(\"Enter 1\"))\n",
    "n3 = int(input(\"Enter 1\"))\n",
    "if (n1 > n2 and n1 < n3) or (n1 > n3 and n1 < n2):\n",
    "    large = n1\n",
    "elif (n2 > n1 and n2 < n3) or (n2 > n3 and n2 < n1):\n",
    "    large = n2\n",
    "else:\n",
    "    large = n3\n",
    "\n",
    "print(\"Second Largest:\",large)"
   ]
  },
  {
   "cell_type": "markdown",
   "metadata": {},
   "source": [
    "### 11) WAP to calculate electricity bill based on following criteria. Which takes the unit from the user.\n",
    "a. First 1 to 50 units – Rs. 2.60/unit</br>\n",
    "b. Next 50 to 100 units – Rs. 3.25/unit</br>\n",
    "c. Next 100 to 200 units – Rs. 5.26/unit</br>\n",
    "d. above 200 units – Rs. 8.45/unit"
   ]
  },
  {
   "cell_type": "code",
   "execution_count": 29,
   "metadata": {},
   "outputs": [
    {
     "name": "stdin",
     "output_type": "stream",
     "text": [
      "ENtr Unit 150\n"
     ]
    },
    {
     "name": "stdout",
     "output_type": "stream",
     "text": [
      "Total bill 555.5\n"
     ]
    }
   ],
   "source": [
    "unit = float(input(\"ENtr Unit\"))\n",
    "bill = 0.0\n",
    "\n",
    "if unit <= 50:\n",
    "    bill = unit * 2.60\n",
    "elif unit <= 100 and unit >= 50:\n",
    "    bill = (50 * 2.60) + ((unit - 50) * 3.25)\n",
    "elif unit <= 200 and unit >= 100:\n",
    "    bill = (50 * 2.60) + (50 * 3.25) + ((unit - 100) * 5.26)\n",
    "else:\n",
    "    bill = (50 * 2.60) + (50 * 3.25) + (100 * 5.26) + ((unit - 200) * 8.45)\n",
    "    \n",
    "print(f\"Total bill\",bill)\n"
   ]
  },
  {
   "cell_type": "code",
   "execution_count": null,
   "metadata": {},
   "outputs": [],
   "source": []
  }
 ],
 "metadata": {
  "kernelspec": {
   "display_name": "Python 3 (ipykernel)",
   "language": "python",
   "name": "python3"
  },
  "language_info": {
   "codemirror_mode": {
    "name": "ipython",
    "version": 3
   },
   "file_extension": ".py",
   "mimetype": "text/x-python",
   "name": "python",
   "nbconvert_exporter": "python",
   "pygments_lexer": "ipython3",
   "version": "3.12.7"
  }
 },
 "nbformat": 4,
 "nbformat_minor": 4
}
